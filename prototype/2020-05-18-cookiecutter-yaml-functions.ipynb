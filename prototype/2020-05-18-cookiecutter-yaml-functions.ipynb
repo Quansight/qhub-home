{
 "cells": [
  {
   "cell_type": "code",
   "execution_count": 10,
   "metadata": {},
   "outputs": [
    {
     "data": {
      "text/markdown": [
       "    import qhub_ops.template\n",
       "    from qhapi.schema import *\n",
       "    from cookiecutter.main import cookiecutter"
      ],
      "text/plain": [
       "<IPython.core.display.Markdown object>"
      ]
     },
     "metadata": {},
     "output_type": "display_data"
    }
   ],
   "source": [
    "    import qhub_ops.template\n",
    "    from qhapi.schema import *\n",
    "    from cookiecutter.main import cookiecutter"
   ]
  },
  {
   "cell_type": "code",
   "execution_count": 11,
   "metadata": {},
   "outputs": [
    {
     "data": {
      "text/markdown": [
       "    import pathlib, json"
      ],
      "text/plain": [
       "<IPython.core.display.Markdown object>"
      ]
     },
     "metadata": {},
     "output_type": "display_data"
    }
   ],
   "source": [
    "    import pathlib, json"
   ]
  },
  {
   "cell_type": "markdown",
   "metadata": {},
   "source": [
    "        json.loads((pathlib.Path(qhub_ops.__file__).parent / 'template' / 'cookiecutter.json').read_text())"
   ]
  },
  {
   "cell_type": "code",
   "execution_count": 32,
   "metadata": {},
   "outputs": [
    {
     "data": {
      "text/markdown": [
       "    def serialize(project_name:str, provider=ProviderEnum):\n",
       "        ci_cd = 'github-actions'\n",
       "        domain=F'{provider}.qhub.dev'\n",
       "        return __import__('json').loads(Providers(\n",
       "            **locals(),\n",
       "            security = Security(\n",
       "                authentication=Authentication(\n",
       "                    type='github', \n",
       "                    config=GithubAuth(client_id='xx', client_secret='xx')\n",
       "                ).dict(), \n",
       "                users=[], \n",
       "                group=[]\n",
       "            ), \n",
       "            digital_ocean={}\n",
       "        ).json())"
      ],
      "text/plain": [
       "<IPython.core.display.Markdown object>"
      ]
     },
     "metadata": {},
     "output_type": "display_data"
    }
   ],
   "source": [
    "    def serialize(project_name:str, provider=ProviderEnum):\n",
    "        ci_cd = 'github-actions'\n",
    "        domain=F'{provider}.qhub.dev'\n",
    "        return __import__('json').loads(Providers(\n",
    "            **locals(),\n",
    "            security = Security(\n",
    "                authentication=Authentication(\n",
    "                    type='github', \n",
    "                    config=GithubAuth(client_id='xx', client_secret='xx')\n",
    "                ).dict(), \n",
    "                users=[], \n",
    "                group=[]\n",
    "            ), \n",
    "            digital_ocean={}\n",
    "        ).json())"
   ]
  },
  {
   "cell_type": "code",
   "execution_count": 33,
   "metadata": {},
   "outputs": [
    {
     "data": {
      "text/markdown": [
       "    def cookiecut(project_name:str, provider=ProviderEnum):\n",
       "        return cookiecutter('qhub-ops/', directory='qhub_ops/template', no_input=True, extra_context=serialize(**locals()))"
      ],
      "text/plain": [
       "<IPython.core.display.Markdown object>"
      ]
     },
     "metadata": {},
     "output_type": "display_data"
    }
   ],
   "source": [
    "    def cookiecut(project_name:str, provider=ProviderEnum):\n",
    "        return cookiecutter('qhub-ops/', directory='qhub_ops/template', no_input=True, extra_context=serialize(**locals()))"
   ]
  },
  {
   "cell_type": "code",
   "execution_count": 37,
   "metadata": {},
   "outputs": [
    {
     "name": "stdout",
     "output_type": "stream",
     "text": [
      "ci_cd: github-actions\n",
      "digital_ocean: {}\n",
      "project_name: test\n",
      "provider: do\n",
      "security:\n",
      "  authentication:\n",
      "    config:\n",
      "      oauth_callback_url: https://jupyter.do.qhub.dev/hub/oauth_callback\n",
      "    type: github\n",
      "  group: {}\n",
      "  users: {}\n",
      "\n"
     ]
    },
    {
     "data": {
      "text/markdown": [
       "    def yamilfy(project_name:str, provider=ProviderEnum):\n",
       "        return __import__('yaml').safe_dump(serialize(**locals()), default_flow_style=False)\n",
       "\n",
       "    print(yamilfy('test', 'do'))"
      ],
      "text/plain": [
       "<IPython.core.display.Markdown object>"
      ]
     },
     "metadata": {},
     "output_type": "display_data"
    }
   ],
   "source": [
    "    def yamilfy(project_name:str, provider=ProviderEnum):\n",
    "        return __import__('yaml').safe_dump(serialize(**locals()), default_flow_style=False)\n",
    "\n",
    "    print(yamilfy('test', 'do'))"
   ]
  },
  {
   "cell_type": "markdown",
   "metadata": {},
   "source": [
    "Cookiecutter api.\n"
   ]
  },
  {
   "cell_type": "code",
   "execution_count": 38,
   "metadata": {},
   "outputs": [
    {
     "ename": "UndefinedVariableInTemplate",
     "evalue": "Unable to create file 'infrastructure/dask-gateway.yaml'. Error message: 'None' has no attribute 'dask_worker'. Context: OrderedDict([('cookiecutter', OrderedDict([('project_name', 'test'), ('provider', 'do'), ('ci_cd', 'github-actions'), ('endpoint', None), ('profiles', None), ('_extensions', ['qhub_ops.render.jinja.YamlifyExtension', 'qhub_ops.render.jinja.JsonifyExtension']), ('security', {'authentication': {'type': 'github', 'config': {'oauth_callback_url': 'https://jupyter.do.qhub.dev/hub/oauth_callback'}}, 'users': {}, 'group': {}}), ('digital_ocean', {}), ('google_cloud_platform', {'project': None, 'region': None, 'zone': None, 'availability_zones': [], 'kubernetes_version': None, 'node_groups': {'general': {'instance': None, 'min_nodes': None, 'max_nodes': None}, 'user': {'instance': None, 'min_nodes': None, 'max_nodes': None}, 'worker': {'instance': None, 'min_nodes': None, 'max_nodes': None}}}), ('amazon_web_services', {'region': None, 'availability_zones': [], 'kubernetes_version': None, 'node_groups': {'general': {'instance': None, 'min_nodes': None, 'max_nodes': None}, 'user': {'instance': None, 'min_nodes': None, 'max_nodes': None}, 'worker': {'instance': None, 'min_nodes': None, 'max_nodes': None}}}), ('_template', 'qhub-ops/')]))])",
     "output_type": "error",
     "traceback": [
      "\u001b[0;31m---------------------------------------------------------------------------\u001b[0m",
      "\u001b[0;31mUndefinedError\u001b[0m                            Traceback (most recent call last)",
      "\u001b[0;32m~/anaconda3/lib/python3.7/site-packages/cookiecutter/generate.py\u001b[0m in \u001b[0;36mgenerate_files\u001b[0;34m(repo_dir, context, output_dir, overwrite_if_exists, skip_if_file_exists)\u001b[0m\n\u001b[1;32m    352\u001b[0m                     generate_file(\n\u001b[0;32m--> 353\u001b[0;31m                         \u001b[0mproject_dir\u001b[0m\u001b[0;34m,\u001b[0m \u001b[0minfile\u001b[0m\u001b[0;34m,\u001b[0m \u001b[0mcontext\u001b[0m\u001b[0;34m,\u001b[0m \u001b[0menv\u001b[0m\u001b[0;34m,\u001b[0m \u001b[0mskip_if_file_exists\u001b[0m\u001b[0;34m\u001b[0m\u001b[0;34m\u001b[0m\u001b[0m\n\u001b[0m\u001b[1;32m    354\u001b[0m                     )\n",
      "\u001b[0;32m~/anaconda3/lib/python3.7/site-packages/cookiecutter/generate.py\u001b[0m in \u001b[0;36mgenerate_file\u001b[0;34m(project_dir, infile, context, env, skip_if_file_exists)\u001b[0m\n\u001b[1;32m    174\u001b[0m             \u001b[0;32mraise\u001b[0m\u001b[0;34m\u001b[0m\u001b[0;34m\u001b[0m\u001b[0m\n\u001b[0;32m--> 175\u001b[0;31m         \u001b[0mrendered_file\u001b[0m \u001b[0;34m=\u001b[0m \u001b[0mtmpl\u001b[0m\u001b[0;34m.\u001b[0m\u001b[0mrender\u001b[0m\u001b[0;34m(\u001b[0m\u001b[0;34m**\u001b[0m\u001b[0mcontext\u001b[0m\u001b[0;34m)\u001b[0m\u001b[0;34m\u001b[0m\u001b[0;34m\u001b[0m\u001b[0m\n\u001b[0m\u001b[1;32m    176\u001b[0m \u001b[0;34m\u001b[0m\u001b[0m\n",
      "\u001b[0;32m~/anaconda3/lib/python3.7/site-packages/jinja2/environment.py\u001b[0m in \u001b[0;36mrender\u001b[0;34m(self, *args, **kwargs)\u001b[0m\n\u001b[1;32m   1089\u001b[0m         \u001b[0;32mexcept\u001b[0m \u001b[0mException\u001b[0m\u001b[0;34m:\u001b[0m\u001b[0;34m\u001b[0m\u001b[0;34m\u001b[0m\u001b[0m\n\u001b[0;32m-> 1090\u001b[0;31m             \u001b[0mself\u001b[0m\u001b[0;34m.\u001b[0m\u001b[0menvironment\u001b[0m\u001b[0;34m.\u001b[0m\u001b[0mhandle_exception\u001b[0m\u001b[0;34m(\u001b[0m\u001b[0;34m)\u001b[0m\u001b[0;34m\u001b[0m\u001b[0;34m\u001b[0m\u001b[0m\n\u001b[0m\u001b[1;32m   1091\u001b[0m \u001b[0;34m\u001b[0m\u001b[0m\n",
      "\u001b[0;32m~/anaconda3/lib/python3.7/site-packages/jinja2/environment.py\u001b[0m in \u001b[0;36mhandle_exception\u001b[0;34m(self, source)\u001b[0m\n\u001b[1;32m    831\u001b[0m \u001b[0;34m\u001b[0m\u001b[0m\n\u001b[0;32m--> 832\u001b[0;31m         \u001b[0mreraise\u001b[0m\u001b[0;34m(\u001b[0m\u001b[0;34m*\u001b[0m\u001b[0mrewrite_traceback_stack\u001b[0m\u001b[0;34m(\u001b[0m\u001b[0msource\u001b[0m\u001b[0;34m=\u001b[0m\u001b[0msource\u001b[0m\u001b[0;34m)\u001b[0m\u001b[0;34m)\u001b[0m\u001b[0;34m\u001b[0m\u001b[0;34m\u001b[0m\u001b[0m\n\u001b[0m\u001b[1;32m    833\u001b[0m \u001b[0;34m\u001b[0m\u001b[0m\n",
      "\u001b[0;32m~/anaconda3/lib/python3.7/site-packages/jinja2/_compat.py\u001b[0m in \u001b[0;36mreraise\u001b[0;34m(tp, value, tb)\u001b[0m\n\u001b[1;32m     27\u001b[0m         \u001b[0;32mif\u001b[0m \u001b[0mvalue\u001b[0m\u001b[0;34m.\u001b[0m\u001b[0m__traceback__\u001b[0m \u001b[0;32mis\u001b[0m \u001b[0;32mnot\u001b[0m \u001b[0mtb\u001b[0m\u001b[0;34m:\u001b[0m\u001b[0;34m\u001b[0m\u001b[0;34m\u001b[0m\u001b[0m\n\u001b[0;32m---> 28\u001b[0;31m             \u001b[0;32mraise\u001b[0m \u001b[0mvalue\u001b[0m\u001b[0;34m.\u001b[0m\u001b[0mwith_traceback\u001b[0m\u001b[0;34m(\u001b[0m\u001b[0mtb\u001b[0m\u001b[0;34m)\u001b[0m\u001b[0;34m\u001b[0m\u001b[0;34m\u001b[0m\u001b[0m\n\u001b[0m\u001b[1;32m     29\u001b[0m         \u001b[0;32mraise\u001b[0m \u001b[0mvalue\u001b[0m\u001b[0;34m\u001b[0m\u001b[0;34m\u001b[0m\u001b[0m\n",
      "\u001b[0;32m./infrastructure/dask-gateway.yaml\u001b[0m in \u001b[0;36mtop-level template code\u001b[0;34m()\u001b[0m\n",
      "\u001b[0;31mUndefinedError\u001b[0m: 'None' has no attribute 'dask_worker'",
      "\nDuring handling of the above exception, another exception occurred:\n",
      "\u001b[0;31mUndefinedVariableInTemplate\u001b[0m               Traceback (most recent call last)",
      "\u001b[0;32m<ipython-input-38-585051805519>\u001b[0m in \u001b[0;36m<module>\u001b[0;34m\u001b[0m\n\u001b[0;32m----> 1\u001b[0;31m \u001b[0mcookiecut\u001b[0m\u001b[0;34m(\u001b[0m\u001b[0;34m'test'\u001b[0m\u001b[0;34m,\u001b[0m \u001b[0;34m'do'\u001b[0m\u001b[0;34m)\u001b[0m\u001b[0;34m\u001b[0m\u001b[0;34m\u001b[0m\u001b[0m\n\u001b[0m",
      "\u001b[0;32m<ipython-input-33-b3c902680559>\u001b[0m in \u001b[0;36mcookiecut\u001b[0;34m(project_name, provider)\u001b[0m\n\u001b[1;32m      1\u001b[0m \u001b[0;32mdef\u001b[0m \u001b[0mcookiecut\u001b[0m\u001b[0;34m(\u001b[0m\u001b[0mproject_name\u001b[0m\u001b[0;34m:\u001b[0m\u001b[0mstr\u001b[0m\u001b[0;34m,\u001b[0m \u001b[0mprovider\u001b[0m\u001b[0;34m=\u001b[0m\u001b[0mProviderEnum\u001b[0m\u001b[0;34m)\u001b[0m\u001b[0;34m:\u001b[0m\u001b[0;34m\u001b[0m\u001b[0;34m\u001b[0m\u001b[0m\n\u001b[0;32m----> 2\u001b[0;31m     \u001b[0;32mreturn\u001b[0m \u001b[0mcookiecutter\u001b[0m\u001b[0;34m(\u001b[0m\u001b[0;34m'qhub-ops/'\u001b[0m\u001b[0;34m,\u001b[0m \u001b[0mdirectory\u001b[0m\u001b[0;34m=\u001b[0m\u001b[0;34m'qhub_ops/template'\u001b[0m\u001b[0;34m,\u001b[0m \u001b[0mno_input\u001b[0m\u001b[0;34m=\u001b[0m\u001b[0;32mTrue\u001b[0m\u001b[0;34m,\u001b[0m \u001b[0mextra_context\u001b[0m\u001b[0;34m=\u001b[0m\u001b[0mserialize\u001b[0m\u001b[0;34m(\u001b[0m\u001b[0;34m**\u001b[0m\u001b[0mlocals\u001b[0m\u001b[0;34m(\u001b[0m\u001b[0;34m)\u001b[0m\u001b[0;34m)\u001b[0m\u001b[0;34m)\u001b[0m\u001b[0;34m\u001b[0m\u001b[0;34m\u001b[0m\u001b[0m\n\u001b[0m",
      "\u001b[0;32m~/anaconda3/lib/python3.7/site-packages/cookiecutter/main.py\u001b[0m in \u001b[0;36mcookiecutter\u001b[0;34m(template, checkout, no_input, extra_context, replay, overwrite_if_exists, output_dir, config_file, default_config, password, directory, skip_if_file_exists)\u001b[0m\n\u001b[1;32m    104\u001b[0m         \u001b[0moverwrite_if_exists\u001b[0m\u001b[0;34m=\u001b[0m\u001b[0moverwrite_if_exists\u001b[0m\u001b[0;34m,\u001b[0m\u001b[0;34m\u001b[0m\u001b[0;34m\u001b[0m\u001b[0m\n\u001b[1;32m    105\u001b[0m         \u001b[0mskip_if_file_exists\u001b[0m\u001b[0;34m=\u001b[0m\u001b[0mskip_if_file_exists\u001b[0m\u001b[0;34m,\u001b[0m\u001b[0;34m\u001b[0m\u001b[0;34m\u001b[0m\u001b[0m\n\u001b[0;32m--> 106\u001b[0;31m         \u001b[0moutput_dir\u001b[0m\u001b[0;34m=\u001b[0m\u001b[0moutput_dir\u001b[0m\u001b[0;34m,\u001b[0m\u001b[0;34m\u001b[0m\u001b[0;34m\u001b[0m\u001b[0m\n\u001b[0m\u001b[1;32m    107\u001b[0m     )\n\u001b[1;32m    108\u001b[0m \u001b[0;34m\u001b[0m\u001b[0m\n",
      "\u001b[0;32m~/anaconda3/lib/python3.7/site-packages/cookiecutter/generate.py\u001b[0m in \u001b[0;36mgenerate_files\u001b[0;34m(repo_dir, context, output_dir, overwrite_if_exists, skip_if_file_exists)\u001b[0m\n\u001b[1;32m    357\u001b[0m                         \u001b[0mrmtree\u001b[0m\u001b[0;34m(\u001b[0m\u001b[0mproject_dir\u001b[0m\u001b[0;34m)\u001b[0m\u001b[0;34m\u001b[0m\u001b[0;34m\u001b[0m\u001b[0m\n\u001b[1;32m    358\u001b[0m                     \u001b[0mmsg\u001b[0m \u001b[0;34m=\u001b[0m \u001b[0;34m\"Unable to create file '{}'\"\u001b[0m\u001b[0;34m.\u001b[0m\u001b[0mformat\u001b[0m\u001b[0;34m(\u001b[0m\u001b[0minfile\u001b[0m\u001b[0;34m)\u001b[0m\u001b[0;34m\u001b[0m\u001b[0;34m\u001b[0m\u001b[0m\n\u001b[0;32m--> 359\u001b[0;31m                     \u001b[0;32mraise\u001b[0m \u001b[0mUndefinedVariableInTemplate\u001b[0m\u001b[0;34m(\u001b[0m\u001b[0mmsg\u001b[0m\u001b[0;34m,\u001b[0m \u001b[0merr\u001b[0m\u001b[0;34m,\u001b[0m \u001b[0mcontext\u001b[0m\u001b[0;34m)\u001b[0m\u001b[0;34m\u001b[0m\u001b[0;34m\u001b[0m\u001b[0m\n\u001b[0m\u001b[1;32m    360\u001b[0m \u001b[0;34m\u001b[0m\u001b[0m\n\u001b[1;32m    361\u001b[0m     _run_hook_from_repo_dir(\n",
      "\u001b[0;31mUndefinedVariableInTemplate\u001b[0m: Unable to create file 'infrastructure/dask-gateway.yaml'. Error message: 'None' has no attribute 'dask_worker'. Context: OrderedDict([('cookiecutter', OrderedDict([('project_name', 'test'), ('provider', 'do'), ('ci_cd', 'github-actions'), ('endpoint', None), ('profiles', None), ('_extensions', ['qhub_ops.render.jinja.YamlifyExtension', 'qhub_ops.render.jinja.JsonifyExtension']), ('security', {'authentication': {'type': 'github', 'config': {'oauth_callback_url': 'https://jupyter.do.qhub.dev/hub/oauth_callback'}}, 'users': {}, 'group': {}}), ('digital_ocean', {}), ('google_cloud_platform', {'project': None, 'region': None, 'zone': None, 'availability_zones': [], 'kubernetes_version': None, 'node_groups': {'general': {'instance': None, 'min_nodes': None, 'max_nodes': None}, 'user': {'instance': None, 'min_nodes': None, 'max_nodes': None}, 'worker': {'instance': None, 'min_nodes': None, 'max_nodes': None}}}), ('amazon_web_services', {'region': None, 'availability_zones': [], 'kubernetes_version': None, 'node_groups': {'general': {'instance': None, 'min_nodes': None, 'max_nodes': None}, 'user': {'instance': None, 'min_nodes': None, 'max_nodes': None}, 'worker': {'instance': None, 'min_nodes': None, 'max_nodes': None}}}), ('_template', 'qhub-ops/')]))])"
     ]
    },
    {
     "data": {
      "text/markdown": [
       "    cookiecut('test', 'do')"
      ],
      "text/plain": [
       "<IPython.core.display.Markdown object>"
      ]
     },
     "metadata": {},
     "output_type": "display_data"
    }
   ],
   "source": [
    "    cookiecut('test', 'do')"
   ]
  },
  {
   "cell_type": "code",
   "execution_count": null,
   "metadata": {},
   "outputs": [],
   "source": []
  }
 ],
 "metadata": {
  "kernelspec": {
   "display_name": "pidgy 3",
   "language": "python",
   "name": "pidgy"
  },
  "language_info": {
   "codemirror_mode": {
    "name": "ipython",
    "version": 3
   },
   "file_extension": ".py",
   "mimetype": "text/x-python",
   "name": "python",
   "nbconvert_exporter": "python",
   "pygments_lexer": "ipython3",
   "version": "3.7.3"
  }
 },
 "nbformat": 4,
 "nbformat_minor": 4
}
