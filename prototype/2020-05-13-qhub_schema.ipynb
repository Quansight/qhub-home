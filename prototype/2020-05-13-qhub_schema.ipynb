{
 "cells": [
  {
   "cell_type": "code",
   "execution_count": 1,
   "metadata": {},
   "outputs": [],
   "source": [
    "     import enum, typing, pydantic"
   ]
  },
  {
   "cell_type": "code",
   "execution_count": 2,
   "metadata": {},
   "outputs": [],
   "source": [
    "    class ProviderEnum(str, enum.Enum):\n",
    "        do = 'do'\n",
    "        aws = 'aws'\n",
    "        gcp = 'gcp'\n",
    "\n",
    "    class CiEnum(str, enum.Enum):\n",
    "        github_actions = \"github-actions\"\n"
   ]
  },
  {
   "cell_type": "code",
   "execution_count": 3,
   "metadata": {},
   "outputs": [],
   "source": [
    "    class Base(pydantic.BaseModel):\n",
    "        ..."
   ]
  },
  {
   "cell_type": "code",
   "execution_count": 4,
   "metadata": {},
   "outputs": [],
   "source": [
    "    class NodeGroup(Base): ...\n",
    "    class Provider(Base): ...        "
   ]
  },
  {
   "cell_type": "code",
   "execution_count": 5,
   "metadata": {},
   "outputs": [],
   "source": [
    "    class Profile(Base): ...\n",
    "    class Project(Base):\n",
    "        project_name: str\n",
    "        provider: Provider\n",
    "    class User(Base):\n",
    "        uid: str\n",
    "        primary_group: str\n",
    "        secondary_group: str=None\n",
    "    class Group(Base):\n",
    "        gid: int\n",
    "    class AuthConfig(Base):\n",
    "        oauth_callback_url: str =\"https://jupyter.do.qhub.dev/hub/oauth_callback\"\n",
    "\n",
    "    class GithubAuth(Base):\n",
    "        \"\"\"\n",
    "        >>> assert Authentication(type='Github', config = GithubAuth(client_id=\"\", client_secret=\"\"))\n",
    "        \"\"\"\n",
    "        client_id: str\n",
    "        client_secret: str\n",
    "    class Authentication(Base):\n",
    "        type: str        # This maps to the \"type\" under authentication\n",
    "        config: AuthConfig\n",
    "    \n",
    "    class Security(Base):\n",
    "        authentication: Authentication\n",
    "        users: typing.Dict[str, User]\n",
    "        group: typing.Dict[str, Group]"
   ]
  },
  {
   "cell_type": "code",
   "execution_count": 6,
   "metadata": {},
   "outputs": [],
   "source": [
    "    class Main(Base):\n",
    "        \"\"\"\"\"\"\n",
    "        project_name: str\n",
    "        provider: ProviderEnum\n",
    "        ci_cd: CiEnum\n",
    "        security: Security\n",
    "            "
   ]
  },
  {
   "cell_type": "code",
   "execution_count": 7,
   "metadata": {},
   "outputs": [],
   "source": [
    "    class Providers(Main):\n",
    "        digital_ocean: Provider = None"
   ]
  },
  {
   "cell_type": "code",
   "execution_count": 8,
   "metadata": {},
   "outputs": [],
   "source": [
    "    fastapi = __import__('fastapi').FastAPI()"
   ]
  },
  {
   "cell_type": "markdown",
   "metadata": {},
   "source": [
    "https://pydantic-docs.helpmanual.io/usage/types/"
   ]
  },
  {
   "cell_type": "code",
   "execution_count": 9,
   "metadata": {},
   "outputs": [],
   "source": [
    "    @fastapi.get('/yaml')\n",
    "    def to_yaml(app: Providers):\n",
    "        return __import__('yaml').safe_dump(__import__('ujson').loads(\n",
    "            Providers(**app).json()\n",
    "        ), default_flow_style=False)"
   ]
  },
  {
   "cell_type": "code",
   "execution_count": 10,
   "metadata": {},
   "outputs": [],
   "source": [
    "    # __import__('nest_asyncio').apply()"
   ]
  },
  {
   "cell_type": "code",
   "execution_count": 13,
   "metadata": {},
   "outputs": [],
   "source": [
    "    def main():\n",
    "        __import__('uvicorn').run(fastapi, port=8444)"
   ]
  },
  {
   "cell_type": "code",
   "execution_count": 12,
   "metadata": {},
   "outputs": [
    {
     "name": "stdout",
     "output_type": "stream",
     "text": [
      "TestResults(failed=0, attempted=1)\n",
      "[NbConvertApp] Converting notebook 2020-05-13-qhub_schema.ipynb to python\n",
      "\u001b[1mreformatted qhub_schema.py\u001b[0m\n",
      "\u001b[1mAll done! ✨ 🍰 ✨\u001b[0m\n",
      "\u001b[1m1 file reformatted\u001b[0m.\u001b[0m\n",
      "Fixing /Users/anirrudhkrishnan/Downloads/qhub_schema.py\n"
     ]
    }
   ],
   "source": [
    "    if __name__ == '__main__':\n",
    "        print(__import__('doctest').testmod())\n",
    "        !jupyter nbconvert --to python --stdout 2020-05-13-qhub_schema.ipynb > qhub_schema.py\n",
    "        !black qhub_schema.py\n",
    "        !isort qhub_schema.py"
   ]
  },
  {
   "cell_type": "code",
   "execution_count": null,
   "metadata": {},
   "outputs": [],
   "source": []
  }
 ],
 "metadata": {
  "kernelspec": {
   "display_name": "qhub_server",
   "language": "python",
   "name": "qhub_server"
  },
  "language_info": {
   "codemirror_mode": {
    "name": "ipython",
    "version": 3
   },
   "file_extension": ".py",
   "mimetype": "text/x-python",
   "name": "python",
   "nbconvert_exporter": "python",
   "pygments_lexer": "ipython3",
   "version": "3.6.10"
  }
 },
 "nbformat": 4,
 "nbformat_minor": 4
}
