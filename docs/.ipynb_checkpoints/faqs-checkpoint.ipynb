{
 "cells": [
  {
   "cell_type": "markdown",
   "metadata": {},
   "source": [
    "## FAQ\n",
    "\n",
    "+ **What is QHub?**\n",
    "    + \n",
    "\n",
    "+ **Is QHub free?**\n",
    "\n",
    "    + QHub is an open source project and free to use. You only pay for the cloud applications you use. \n",
    "    \n",
    "+ **What challenges does QHub fix?**\n",
    "\n",
    "    + Abstracting away the nitty gritty details of setting up a cloud pipeline. \n",
    "    \n",
    "+ **What technologies does QHub rely on?**\n",
    "\n",
    "    + QHub integrates multiple cloud services: Amazon Web Services (AWS), Google Cloud Platform (GCP), and Digital Ocean. \n",
    "    \n",
    "+ **What is Jupyter Notebook?**\n",
    "    + The Jupyter Notebook is an open-source web application that allows users to create and share documents that contain live code, equations, visualizations and narrative text on their browsers. See [Jupyter Notebook documentation](https://jupyter-notebook.readthedocs.io/en/stable/) for details. \n",
    "    \n",
    "    \n",
    "+ **What is JupyterHub?**\n",
    "    + JupyterHub is a multi-user hub that spawns, manages, and proxies multiple instances of the single-user Jupyter notebook server. See [JupyterHub documentation](https://jupyterhub.readthedocs.io/en/stable/) for details. \n",
    "\n",
    "    + **QHub vs JupyterHub** \n",
    "        + \n",
    "    \n",
    "+ **What is Dask?**\n",
    "    + Dask is an open source library for parallel computing written in Python. See [Dask documentation](https://docs.dask.org/en/latest/) for details. \n",
    "\n",
    "+ **What is Anaconda?** \n",
    "\n",
    "+ **Do I have to be an exprienced programmer/data scientist to use QHub?** \n",
    "\n",
    "+ **What are environments? This term is used a few different ways terraform, conda, docker, dask.**\n",
    "\n",
    "+ **Why open source?**\n",
    "\n",
    "+ **What parts of QHub are not open source?**\n",
    "\n",
    "+ **Ask an expert -> go to github issues**"
   ]
  },
  {
   "cell_type": "code",
   "execution_count": null,
   "metadata": {},
   "outputs": [],
   "source": []
  }
 ],
 "metadata": {
  "kernelspec": {
   "display_name": "Python 3",
   "language": "python",
   "name": "python3"
  },
  "language_info": {
   "codemirror_mode": {
    "name": "ipython",
    "version": 3
   },
   "file_extension": ".py",
   "mimetype": "text/x-python",
   "name": "python",
   "nbconvert_exporter": "python",
   "pygments_lexer": "ipython3",
   "version": "3.7.7"
  }
 },
 "nbformat": 4,
 "nbformat_minor": 4
}
