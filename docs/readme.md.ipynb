{
 "cells": [
  {
   "cell_type": "code",
   "execution_count": 23,
   "metadata": {},
   "outputs": [
    {
     "data": {
      "text/markdown": [
       "# QHUB Documentation\n",
       "\n",
       "> Open source tooling for data science research, development, and deployment.\n",
       "\n",
       "Qhub is [__Infrastructure as Code__](#What-is-Infrastructure-as-Code.) \n",
       "simplifies the deployment of data science infrastructure for you and your team.\n",
       "    \n",
       "## For command users\n",
       "    \n",
       "```bash\n",
       "\n",
       "```\n",
       "\n",
       "## Use the Qhub wizard.\n",
       "    \n",
       "### Why QHUB?\n",
       "    \n",
       "There are many steps along the lifecycle of data science products. Qhub is designed \n",
       "to work at all points in the process. It includes jupyterlab, dask, kubernetes\n",
       "    \n",
       "### What is __Infrastructure as Code__."
      ],
      "text/plain": [
       "<IPython.core.display.Markdown object>"
      ]
     },
     "metadata": {},
     "output_type": "display_data"
    }
   ],
   "source": [
    "# QHUB Documentation\n",
    "\n",
    "> Open source tooling for data science research, development, and deployment.\n",
    "\n",
    "Qhub is [__Infrastructure as Code__](#What-is-Infrastructure-as-Code.) \n",
    "simplifies the deployment of data science infrastructure for you and your team.\n",
    "    \n",
    "## For command users\n",
    "    \n",
    "```bash\n",
    "\n",
    "```\n",
    "\n",
    "## Use the Qhub wizard.\n",
    "    \n",
    "### Why QHUB?\n",
    "    \n",
    "There are many steps along the lifecycle of data science products. Qhub is designed \n",
    "to work at all points in the process. It includes jupyterlab, dask, kubernetes\n",
    "    \n",
    "### What is __Infrastructure as Code__."
   ]
  },
  {
   "cell_type": "code",
   "execution_count": 26,
   "metadata": {},
   "outputs": [],
   "source": [
    "    \n",
    "    def logo(str, s=200):\n",
    "        return λ[user].get('avatar_url')[F\"![](%s&s={s})\".__mod__](str)\n",
    "\n",
    "    \n",
    "    λ['requests_cache.install_cache']('xxx')\n",
    "    get = λ['requests.get'][Λ.json()]\n",
    "    user = λ[\"https://api.github.com/users/{}\".format][get]\n",
    "    repo = λ[\"https://api.github.com/repos/{}\".format][get]"
   ]
  },
  {
   "cell_type": "code",
   "execution_count": 27,
   "metadata": {},
   "outputs": [
    {
     "data": {
      "text/markdown": [
       "# QHUB Documentation\n",
       "\n",
       "![](https://avatars0.githubusercontent.com/u/34879953?v=4&s=200)\n",
       "\n",
       "> Open source tooling for data science research, development, and deployment.\n",
       "\n",
       "Qhub is [__Infrastructure as Code__](#What-is-Infrastructure-as-Code.) \n",
       "simplifies the deployment of data science infrastructure for you and your team.\n",
       "    \n",
       "![](https://avatars1.githubusercontent.com/u/17131925?v=4&s=100)![](https://avatars2.githubusercontent.com/u/17927519?v=4&s=100)![](https://avatars2.githubusercontent.com/u/13629408?v=4&s=100)\n",
       "    \n",
       "## For command users\n",
       "    \n",
       "```bash\n",
       "\n",
       "```\n",
       "\n",
       "## Use the Qhub wizard.\n",
       "    \n",
       "### Why QHUB?\n",
       "    \n",
       "There are many steps along the lifecycle of data science products. Qhub is designed \n",
       "to work at all points in the process. It includes jupyterlab, dask, kubernetes\n",
       "    \n",
       "### What is __Infrastructure as Code__."
      ],
      "text/plain": [
       "<IPython.core.display.Markdown object>"
      ]
     },
     "metadata": {},
     "output_type": "display_data"
    }
   ],
   "source": [
    "# QHUB Documentation\n",
    "\n",
    "{{logo('Quansight')}}\n",
    "\n",
    "> Open source tooling for data science research, development, and deployment.\n",
    "\n",
    "Qhub is [__Infrastructure as Code__](#What-is-Infrastructure-as-Code.) \n",
    "simplifies the deployment of data science infrastructure for you and your team.\n",
    "    \n",
    "{{logo('dask', 100)}}{{logo('jupyterhub', 100)}}{{logo('kubernetes', 100)}}\n",
    "    \n",
    "## For command users\n",
    "    \n",
    "```bash\n",
    "\n",
    "```\n",
    "\n",
    "## Use the Qhub wizard.\n",
    "    \n",
    "### Why QHUB?\n",
    "    \n",
    "There are many steps along the lifecycle of data science products. Qhub is designed \n",
    "to work at all points in the process. It includes jupyterlab, dask, kubernetes\n",
    "    \n",
    "### What is __Infrastructure as Code__."
   ]
  },
  {
   "cell_type": "markdown",
   "metadata": {},
   "source": [
    "<!--"
   ]
  },
  {
   "cell_type": "code",
   "execution_count": null,
   "metadata": {},
   "outputs": [],
   "source": [
    "    !jupyter nbconvert --to markdown --stdout --TemplateExporter.exclude_input=True readme.md.ipynb > readme.md"
   ]
  },
  {
   "cell_type": "markdown",
   "metadata": {},
   "source": [
    "-->"
   ]
  }
 ],
 "metadata": {
  "kernelspec": {
   "display_name": "pidgy 3",
   "language": "python",
   "name": "pidgy"
  },
  "language_info": {
   "codemirror_mode": {
    "name": "ipython",
    "version": 3
   },
   "file_extension": ".py",
   "mimetype": "text/x-python",
   "name": "python",
   "nbconvert_exporter": "python",
   "pygments_lexer": "ipython3",
   "version": "3.7.3"
  }
 },
 "nbformat": 4,
 "nbformat_minor": 4
}
